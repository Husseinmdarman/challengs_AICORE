{
 "cells": [
  {
   "cell_type": "markdown",
   "source": [
    "### 1. Create a new script and called it `pokemon.py`. In said script you will create a class `Pokemon`. The constructor will accept the following arguments:\n",
    "\n",
    "### $\\qquad$ - name: `str` (Name of the pokemon)\n",
    "### $\\qquad$ - hp: `int` (hp stat)\n",
    "### $\\qquad$ - attack: `int` (Attack stat)\n",
    "### $\\qquad$ - defense: `int` (Defense stat)\n",
    "### $\\qquad$ - elem_type: `str` (Elemental Type of the Pokemon)\n",
    "\n",
    "### Each argument has an homonymous attribute, so the class will have five attributes. We will add more attributes to the class later\n",
    "\n",
    "The next cell will give a template, but you should copy-paste it into your script.\n",
    "\n"
   ],
   "metadata": {}
  },
  {
   "cell_type": "code",
   "execution_count": null,
   "source": [
    "class Pokemon:\n",
    "    def __init__(### Your Code here):\n",
    "        pass\n",
    "\n",
    "bulbasaur = Pokemon('Bulbasaur', 200, 50, 45, 'Grass')"
   ],
   "outputs": [],
   "metadata": {}
  },
  {
   "cell_type": "markdown",
   "source": [
    "### 2. In the same script, create a class `Attack` whose constructor will accept the following arguments:\n",
    "\n",
    "### $\\qquad$ - name: `str` (Name of the attack)\n",
    "### $\\qquad$ - power: `int` (power stat)\n",
    "### $\\qquad$ - pp: `int` (Power Points: Maximum number of times an attack can be used stat)\n",
    "### $\\qquad$ - elem_type: `str` (Elemental Type of the Attack)"
   ],
   "metadata": {}
  },
  {
   "cell_type": "code",
   "execution_count": null,
   "source": [
    "class Attack:\n",
    "    def __init__(### Your Code here):\n",
    "        pass\n",
    "\n",
    "pound = Attack('Pound', 30, 40, 'Normal')"
   ],
   "outputs": [],
   "metadata": {}
  },
  {
   "cell_type": "markdown",
   "source": [
    "### 3. In the `Pokemon` class, add a new argument called moves. This argument will be a list of `Attack` objects. By default, the value will be None.\n",
    "### In the constructor, if the `moves` argument is None, set it to an empty list, and to that empty list append the attack Pound:\n",
    "```\n",
    "self.moves = []\n",
    "self.moves.append(Attack('Pound', 30, 40, 'Normal'))\n",
    "```\n",
    "### Otherwise, set it to the value of the `moves` argument:\n",
    "```\n",
    "self.moves = moves\n",
    "```"
   ],
   "metadata": {}
  },
  {
   "cell_type": "markdown",
   "source": [
    "### 3.2 In the constructor of Pokemon, add a new argument that contains a list with the names of the attacks of the pokemon. Remember that you have the attribute `name` of the `Attack` class."
   ],
   "metadata": {}
  },
  {
   "cell_type": "markdown",
   "source": [
    "### 4. In the same script, create a class `ElementalType` whose constructor will accept the following argument:\n",
    "\n",
    "### $\\qquad$ - element: `str` (Name of the elemental type)\n",
    "\n",
    "### Additionally, the class has the following attributes:\n",
    "\n",
    "`self.possible = ['Grass', 'Fire', 'Water', 'Normal']`\n",
    "\n",
    "`self.winner = [('Grass', 'Water'), ('Fire', 'Grass'), ('Water', 'Fire')]`\n",
    "\n",
    "### Then, check whether the argument `element` that you passed to the constructor is in `self.possible`:\n",
    "```\n",
    "if element.capitalize() not in self.possible:\n",
    "    raise ValueError(f\"{element.capitalize()} not available\")\n",
    "else:\n",
    "    self.element = element.capitalize()\n",
    "```"
   ],
   "metadata": {}
  },
  {
   "cell_type": "markdown",
   "source": [
    "### 4.2 Add three magic methods to the class `ElementalType`:\n",
    "\n",
    "### 1. `__gt__`: This method will return True if the first argument is greater than the second argument.\n",
    "### 2. `__lt__`: This method will return True if the first argument is less than the second argument.\n",
    "### 3. `__eq__`: This method will return True if the first argument is equal to the second argument.\n",
    "\n",
    "### Leverage the self.winner attribute to implement the `__gt__` method. _Take into account that 'Grass' beats 'Water`, and they are in the first tuple._"
   ],
   "metadata": {}
  },
  {
   "cell_type": "code",
   "execution_count": null,
   "source": [
    "grass = ElementalType('Grass')\n",
    "water = ElementalType('Water')\n",
    "fire = ElementalType('Fire')\n",
    "print(grass > water) # This should return True\n",
    "print(grass > fire) # This should return False\n",
    "print(grass == grass) # This should return True\n"
   ],
   "outputs": [],
   "metadata": {}
  },
  {
   "cell_type": "markdown",
   "source": [],
   "metadata": {}
  }
 ],
 "metadata": {
  "orig_nbformat": 4,
  "language_info": {
   "name": "python",
   "version": "3.9.1"
  },
  "kernelspec": {
   "name": "python3",
   "display_name": "Python 3.9.1 64-bit ('base': conda)"
  },
  "interpreter": {
   "hash": "569d6b7e9215e11aba41c6454007e5c1b78bad7df09dab765d8cf00362c40f03"
  }
 },
 "nbformat": 4,
 "nbformat_minor": 2
}