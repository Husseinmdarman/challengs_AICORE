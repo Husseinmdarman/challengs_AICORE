{
 "metadata": {
  "language_info": {
   "codemirror_mode": {
    "name": "ipython",
    "version": 3
   },
   "file_extension": ".py",
   "mimetype": "text/x-python",
   "name": "python",
   "nbconvert_exporter": "python",
   "pygments_lexer": "ipython3",
   "version": "3.9.5"
  },
  "orig_nbformat": 4,
  "kernelspec": {
   "name": "python3",
   "display_name": "Python 3.9.5 64-bit ('AiCore': conda)"
  },
  "interpreter": {
   "hash": "830bf6ca72ecabc9ac511f8e43d68716abe882ae2dc9def7d6aa87a87756e28c"
  }
 },
 "nbformat": 4,
 "nbformat_minor": 2,
 "cells": [
  {
   "source": [
    "1. Write a Python Program that asks the user's name. If that name is in the simpson_list, print 'Hello {name} Simpson', where name corresponds to the entered name. If the input is 'Ned' or 'Flanders', print 'Stupid Flanders!'. Otherwise, print 'Who are you?'"
   ],
   "cell_type": "markdown",
   "metadata": {}
  },
  {
   "cell_type": "code",
   "execution_count": 1,
   "metadata": {},
   "outputs": [],
   "source": [
    "simpson_list = ['Homer', 'Marge', 'Bart', 'Lisa', 'Maggie']"
   ]
  },
  {
   "source": [
    "2. Write a Python function that iterates from 1 to 100. Print only the number if number is divisible by 3. "
   ],
   "cell_type": "markdown",
   "metadata": {}
  },
  {
   "source": [
    "3. Write a Python function that creates an infinite loop. At each iteration, it will ask the user for an input. That loop is broken only if the input is 'Password'\n",
    "3.1 Do the same, but now the loop is broken if the input is either 'Password' or 'password'. Can you do it without using an or operator?"
   ],
   "cell_type": "markdown",
   "metadata": {}
  },
  {
   "source": [
    "4. linkin is a dictionary contaning the discography of the band Linkin Park."
   ],
   "cell_type": "markdown",
   "metadata": {}
  },
  {
   "cell_type": "code",
   "execution_count": 2,
   "metadata": {},
   "outputs": [],
   "source": [
    "linkin = {'Hybrid Theory': ['Papercut', 'One Step Closer', 'With You', 'Points of Authority', 'Crawling', 'Runaway', 'By Myself', 'In the End', 'A Place For My Head', 'Forgotten', 'Cure for the Itch', 'Pushing Me Away'], 'Meteora': ['Foreword', 'Don\\'t Stay', 'Somewhere I Belong', 'Lying from You', 'Hit the Floor', 'Easier to Run', 'Faint', 'Figure.09', 'Breaking the Habit', 'From the Inside', 'Nobody\\'s Listening', 'Session', 'Numb'], 'Minutes to Midnight': ['Wake', 'Given Up', 'Leave Out All the Rest', 'Bleed it Out', 'Shadow of the Day', 'What I\\'ve Done', 'Hands Held High', 'No More Sorrow', 'Valentine\\'s Day', 'In Between', 'In Pieces', 'The Little Things Give You Away'], 'A Thousand Suns': ['The Requiem', 'The Radiance', 'Burning in the Skies', 'Empty Spaces', 'When They Come for Me', 'Robot Boy', 'Jornada Del Muerto', 'Waiting for the End', 'Blackout', 'Wretches and Kings', 'Wisdom, Justice, and Love', 'Iridescent', 'Fallout', 'The Catalyst', 'The Messenger'], 'Living Things': ['Lost in the Echo', 'In My Remains', 'Burn It Down', 'Lies Greed Misery', 'I\\'ll Be Gone', 'Castle of Glass', 'Victimized', 'Roads Untraveled', 'Skin to Bone', 'Until It Breaks', 'Tinfoil', 'Powerless'], 'The Hunting Party': ['Keys to the Kingdom', 'All for Nothing', 'Guilty All the Same', 'The Summoning', 'War', 'Wastelands', 'Until It\\'s Gone', 'Rebellion', 'Mark the Graves', 'Drawbar', 'Final Masquerade', 'A Line In the Sand'], 'One More Light': ['Nobody Can Save Me', 'Good Goodbye', 'Talking to Myself', 'Battle Symphony', 'Invisible', 'Heavy', 'Sorry for Now', 'Halfway Right', 'One More Light', 'Sharp Edges']}"
   ]
  },
  {
   "source": [
    "4.1 Create a list named long_albums, that contains the names of those albums that contain more than 12 songs\n",
    "\n",
    "4.2 Add a new key to the dictionary named 'N_Songs', whose value is a list with the number of songs of each album.\n",
    "\n",
    "4.3 Create a list named lnk_songs that contains all the names of the songs that start with either 'L', 'N', or 'K'\n",
    "\n",
    "4.4 Create a list named album_songs that contains all the names of the songs that contains the first letter of the album containing that song. For example, in the album Hybrid Theory, you would add 'WitH You', 'Points of autHority', 'In tHe End', 'A place for my Head', 'Cure for the itcH', and 'PusHing me Away', because all those songs have 'H' in its name."
   ],
   "cell_type": "markdown",
   "metadata": {}
  },
  {
   "source": [
    "5. Go again through Exercise 2, but now create a function called div_3, that takes one argument n. The function will print all numbers between 1 and n that are divisible by 3. The function will return nothing"
   ],
   "cell_type": "markdown",
   "metadata": {}
  },
  {
   "source": [
    "6. Create a recursive function that accepts one argument n, and it will return the factorial of n. (n!)"
   ],
   "cell_type": "markdown",
   "metadata": {}
  },
  {
   "source": [
    "7. Create a function called bef_aft that accepts another function as an argument. bef_aft should print 'Hello there', run the function, print 'Goodbye!'. Use this dummy function to test it."
   ],
   "cell_type": "markdown",
   "metadata": {}
  },
  {
   "cell_type": "code",
   "execution_count": 4,
   "metadata": {},
   "outputs": [],
   "source": [
    "def dummy_fun():\n",
    "    print('Ignore me, I am just passing by')"
   ]
  }
 ]
}