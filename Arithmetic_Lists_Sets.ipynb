{
 "cells": [
  {
   "cell_type": "markdown",
   "id": "f8147f51",
   "metadata": {},
   "source": [
    "## Question 1. What does it mean that Python is a dynamically typed language?"
   ]
  },
  {
   "cell_type": "markdown",
   "id": "fd2cb776",
   "metadata": {},
   "source": [
    "## Question 2. What is the difference between `int` and `float`? True or False : An exact division will return an integer"
   ]
  },
  {
   "cell_type": "markdown",
   "id": "5586bb45",
   "metadata": {},
   "source": [
    "## Question 3. What is the difference between `%` and `//` in Python? If `x` is even, what is the output of x%2?"
   ]
  },
  {
   "cell_type": "markdown",
   "id": "407efd7b",
   "metadata": {},
   "source": [
    "## Question 4. What is wrong with the next lines? \n",
    "`1_x = 50` \n",
    "`x-1 = 50` \n",
    "`50 = x`"
   ]
  },
  {
   "cell_type": "markdown",
   "id": "437d4724",
   "metadata": {},
   "source": [
    "## Question 5. You have the following string: `a = Hello World`. How can you obtain the same string but the word `world` is all caps? \n",
    " The output will look like this: `Hello WORLD`"
   ]
  },
  {
   "cell_type": "markdown",
   "id": "171b2df3",
   "metadata": {},
   "source": [
    "## Question 6. The `len` method will return the number of characters in a string. How can you slice just the first half of the string? \n",
    " You might want to use the `int` function"
   ]
  },
  {
   "cell_type": "markdown",
   "id": "b2bf7147",
   "metadata": {},
   "source": [
    "## Question 7. You want to repeat the same string `x` times. How can you do that? What if you want to add a space between each repetition? \n",
    " You can use more than one line of code to get the solution"
   ]
  },
  {
   "cell_type": "markdown",
   "id": "7b2a2bc0",
   "metadata": {},
   "source": [
    "## Question 8. What is a mutable data structure? Are lists mutable? And sets?"
   ]
  },
  {
   "cell_type": "markdown",
   "id": "dfc61ff9",
   "metadata": {},
   "source": [
    "## Question 9. What is an ordered data structure? Are lists ordered? And sets?"
   ]
  },
  {
   "cell_type": "markdown",
   "id": "a4f9c98b",
   "metadata": {},
   "source": [
    "## Question 10. You have the following list `[1, 5, 6, 9, 7, 5, 10]`. How can you obtain the index of the highest number?"
   ]
  },
  {
   "cell_type": "markdown",
   "id": "e164dba1",
   "metadata": {},
   "source": [
    "## Question 11. Name at least two ways to sort the previous list in inverse order"
   ]
  },
  {
   "cell_type": "markdown",
   "id": "e00d8d3d",
   "metadata": {},
   "source": [
    "## Question 12. In a Python list, what is the difference between pop and remove?"
   ]
  },
  {
   "cell_type": "markdown",
   "id": "ace0a66b",
   "metadata": {},
   "source": [
    "## Question 13. Name at least two ways to retrieve the value of the last element in a list"
   ]
  },
  {
   "cell_type": "markdown",
   "id": "86a9c58b",
   "metadata": {},
   "source": [
    "## Question 14. You have a list with repeated values. You want to obtain a LIST with unique values. How would you do it?"
   ]
  }
 ],
 "metadata": {},
 "nbformat": 4,
 "nbformat_minor": 5
}
