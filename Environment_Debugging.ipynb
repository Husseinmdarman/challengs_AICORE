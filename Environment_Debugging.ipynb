{
 "cells": [
  {
   "cell_type": "markdown",
   "id": "deda0ae2",
   "metadata": {},
   "source": [
    "## Question 1. How can you check the installed Python version?"
   ]
  },
  {
   "cell_type": "markdown",
   "id": "9eb0dd06",
   "metadata": {},
   "source": [
    "## Question 2. What is pip, and where does it take the packages?"
   ]
  },
  {
   "cell_type": "markdown",
   "id": "4a14ea23",
   "metadata": {},
   "source": [
    "## Question 3. What is the purpose of having a file named requirements.txt?"
   ]
  },
  {
   "cell_type": "markdown",
   "id": "7fd0bca0",
   "metadata": {},
   "source": [
    "## Question 4. Usually, how many numbers do you include in a version number? What does each number represent?"
   ]
  },
  {
   "cell_type": "markdown",
   "id": "79969ab5",
   "metadata": {},
   "source": [
    "## Question 5. What is the purpose of creating a virtual environment?"
   ]
  },
  {
   "cell_type": "markdown",
   "id": "53ef5ccd",
   "metadata": {},
   "source": [
    "## Question 6. What is the difference between Anaconda and MiniConda?"
   ]
  },
  {
   "cell_type": "markdown",
   "id": "0fb20412",
   "metadata": {},
   "source": [
    "## Question 7. What is pep8? How can you apply it to your code?"
   ]
  },
  {
   "cell_type": "markdown",
   "id": "328a2e56",
   "metadata": {},
   "source": [
    "## Question 8. Name three ways to run a Python script (or parts in the script) in VSCode."
   ]
  },
  {
   "cell_type": "markdown",
   "id": "504a7a18",
   "metadata": {},
   "source": [
    "## Question 9. Name three types of errors that you can encounter in Python."
   ]
  },
  {
   "cell_type": "markdown",
   "id": "010f6737",
   "metadata": {},
   "source": [
    "## Question 10. What is the first step in the process of debugging a Python program?"
   ]
  },
  {
   "cell_type": "markdown",
   "id": "0001eb0a",
   "metadata": {},
   "source": [
    "## Question 11. True or False, an undesired behavior in Python will always raise an error"
   ]
  },
  {
   "cell_type": "markdown",
   "id": "ab9349a5",
   "metadata": {},
   "source": [
    "## Question 12. How can you use debugger mode in VSCode? What will it do?"
   ]
  },
  {
   "cell_type": "markdown",
   "id": "6e62dbce",
   "metadata": {},
   "source": [
    "## Question 13. What is the difference between a debugger and a traceback?"
   ]
  }
 ],
 "metadata": {},
 "nbformat": 4,
 "nbformat_minor": 5
}
