{
 "cells": [
  {
   "cell_type": "markdown",
   "id": "8bb4a89c",
   "metadata": {},
   "source": [
    "## Question 1. How can you change all the values in a dictionary to uppercase?"
   ]
  },
  {
   "cell_type": "markdown",
   "id": "27380352",
   "metadata": {},
   "source": [
    "## Question 2. Can you change all the keys in a dictionary to lowercase?"
   ]
  },
  {
   "cell_type": "markdown",
   "id": "5884690d",
   "metadata": {},
   "source": [
    "## Question 3. You have the following dictionaries: \n",
    " `dict_1 = {'key_1': 20, 'key_2': 40, 'key_3': 30}` \n",
    "\n",
    " `dict_2 = {'key_4': 20, 'key_5': 40, 'key_1': 30}` \n",
    "\n",
    " `dict_1.update(dict_2)` \n",
    " ## How many keys will dict_1 have?"
   ]
  },
  {
   "cell_type": "markdown",
   "id": "0b03bc1d",
   "metadata": {},
   "source": [
    "## Question 4. Why would you use a tuple rather than a list?"
   ]
  },
  {
   "cell_type": "markdown",
   "id": "338f6d0b",
   "metadata": {},
   "source": [
    "## Question 5. True or False: You need parentheses to define a tuple."
   ]
  },
  {
   "cell_type": "markdown",
   "id": "cb5265a0",
   "metadata": {},
   "source": [
    "## Question 6. Take a look at these values: \n",
    " `5` \n",
    "\n",
    " `0` \n",
    "\n",
    " `''` (empty string) \n",
    "\n",
    " `[]` (empty list) \n",
    "\n",
    " `None` \n",
    " ## Which one would return True if you cast it into a boolean?"
   ]
  },
  {
   "cell_type": "markdown",
   "id": "0b202884",
   "metadata": {},
   "source": [
    "## Question 7. In an `if` statement, do you have to include else? and elif?"
   ]
  },
  {
   "cell_type": "markdown",
   "id": "84f62f93",
   "metadata": {},
   "source": [
    "## Question 8. Observe the following code: \n",
    "\n",
    " `if x > 0:` \n",
    "\n",
    "\t\t print('Hello') \n",
    "\n",
    " `elif x > 10:` \n",
    "\n",
    "\t\t print('Hi') \n",
    "\n",
    " `else:` \n",
    "\n",
    "\t\t print('Bye') \n",
    "\n",
    " ## What problem do you see?"
   ]
  },
  {
   "cell_type": "markdown",
   "id": "59961275",
   "metadata": {},
   "source": [
    "## Question 9. A typical question about programming is 'Fizzbuzz': \n",
    " You have to print all numbers from 1 to 100: \n",
    " - But for multiples of three print 'Fizz' instead of the number \n",
    " - For the multiples of five print 'Buzz' \n",
    " - For numbers which are multiples of both three and five print 'FizzBuzz' \n",
    "\n",
    " Use a while loop and `if` statements to achieve it"
   ]
  },
  {
   "cell_type": "markdown",
   "id": "6f21d3cc",
   "metadata": {},
   "source": [
    "## Question 10. You want to use run a set of code at the end of a while loop regardless of whether the initial condition is met or not. How can you do that?"
   ]
  },
  {
   "cell_type": "markdown",
   "id": "04ea9d44",
   "metadata": {},
   "source": [
    "## Question 11. Observe the following code: \n",
    "\n",
    " `x = 5` \n",
    "\n",
    " `while x < 10:` \n",
    "\n",
    "\t\t print(x) \n",
    "\n",
    " ## What problem do you see?"
   ]
  },
  {
   "cell_type": "markdown",
   "id": "76a3fefa",
   "metadata": {},
   "source": [
    "## Question 12. If you run a Python script that contains an infinite loop in the terminal, how do you stop it? What if you run it in a notebook?"
   ]
  }
 ],
 "metadata": {},
 "nbformat": 4,
 "nbformat_minor": 5
}
