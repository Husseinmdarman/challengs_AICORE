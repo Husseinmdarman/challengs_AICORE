{
 "cells": [
  {
   "cell_type": "markdown",
   "metadata": {},
   "source": [
    "Classes are something quite complicated. That is why I am going to give small challenges everyday on this. I encourage you to come to the practice sessions"
   ]
  },
  {
   "cell_type": "markdown",
   "metadata": {},
   "source": [
    "## 1. Create a class called Sim. This class acts as a blueprint for creating objects that accepts name, age, stamina, intelligence, charisma. Every attribute is an integer, except for name which is a string"
   ]
  },
  {
   "cell_type": "code",
   "execution_count": null,
   "metadata": {},
   "outputs": [],
   "source": []
  },
  {
   "cell_type": "markdown",
   "metadata": {},
   "source": [
    "## 2. Add the following methods to the Person Class: train, study, talk_to_mirror. train increase stamina by 1 point. study increase intelligence by one point, talk_to_mirror increase charisma by one point. Additionally, every time you call any of these methods, age increases by 1 year"
   ]
  },
  {
   "cell_type": "code",
   "execution_count": null,
   "metadata": {},
   "outputs": [],
   "source": []
  },
  {
   "cell_type": "markdown",
   "metadata": {},
   "source": [
    "## 3. Create three new classes: Athlete, Genius, Leader. All of them will inherit from Sim.\n",
    "### 3.1 Athlete increases stamina 3 points whenever calls the train method\n",
    "### 3.2 Geniues increases intelligence 3 points whenever calls the study method\n",
    "### 3.3 Leader increases charisma 3 points whenever calls the talk_to_mirror method\n"
   ]
  },
  {
   "cell_type": "markdown",
   "metadata": {},
   "source": [
    "Bonus Point: Do it twice, once overwriting the method, or creating a new method that calls for the parent method and add a functionality"
   ]
  },
  {
   "cell_type": "code",
   "execution_count": null,
   "metadata": {},
   "outputs": [],
   "source": []
  },
  {
   "cell_type": "markdown",
   "metadata": {},
   "source": [
    "## 4. Create three new classes: AthleticGenius, AthleticLeader, and GeniusLeader. Each of them will inherit respectively:\n",
    "### 4.1 Athlete and Genius\n",
    "### 4.2 Athlete and Leader\n",
    "### 4.3 Genius and Leader"
   ]
  },
  {
   "cell_type": "code",
   "execution_count": null,
   "metadata": {},
   "outputs": [],
   "source": []
  },
  {
   "cell_type": "markdown",
   "metadata": {},
   "source": [
    "Be careful with the super() method!"
   ]
  },
  {
   "cell_type": "markdown",
   "metadata": {},
   "source": []
  }
 ],
 "metadata": {
  "interpreter": {
   "hash": "569d6b7e9215e11aba41c6454007e5c1b78bad7df09dab765d8cf00362c40f03"
  },
  "kernelspec": {
   "display_name": "Python 3.9.1 64-bit ('base': conda)",
   "name": "python3"
  },
  "language_info": {
   "name": "python",
   "version": ""
  },
  "orig_nbformat": 4
 },
 "nbformat": 4,
 "nbformat_minor": 2
}