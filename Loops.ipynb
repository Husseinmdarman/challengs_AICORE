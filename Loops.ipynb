{
 "cells": [
  {
   "cell_type": "markdown",
   "id": "a1798813",
   "metadata": {},
   "source": [
    "## Question 1. What is the main difference between `for` and `while` loops?"
   ]
  },
  {
   "cell_type": "markdown",
   "id": "eae6d3d9",
   "metadata": {},
   "source": [
    "## Question 2. What is the difference between `break`, `continue`, and `pass`?"
   ]
  },
  {
   "cell_type": "markdown",
   "id": "1bfb570a",
   "metadata": {},
   "source": [
    "## Question 3. You have a list of strings. Name two ways to iterate over this list."
   ]
  },
  {
   "cell_type": "markdown",
   "id": "e2648cc1",
   "metadata": {},
   "source": [
    "## Question 4. You have a list of numbers, and you want to loop through the numbers in reverse order. How would you do it?"
   ]
  },
  {
   "cell_type": "markdown",
   "id": "9ce9f9a3",
   "metadata": {},
   "source": [
    "## Question 5. You have the following list: `[1, 2, 3]`. How can you obtain a dictionary where each key is an element of the list, and its corresponding value twice the key"
   ]
  },
  {
   "cell_type": "markdown",
   "id": "64204f27",
   "metadata": {},
   "source": [
    "## Question 6. Can you do the same with a single line?"
   ]
  },
  {
   "cell_type": "markdown",
   "id": "417a5998",
   "metadata": {},
   "source": [
    "## Question 7. You have the following dictionary: `{10: 20, 30: 40, 50: 60}`. You want to calculate the result of adding all the multiplications between the key and the value \n",
    "\n",
    " Thus, the operation will look like 10 * 20 + 30 * 40 + 50 * 60"
   ]
  },
  {
   "cell_type": "markdown",
   "id": "74a1b676",
   "metadata": {},
   "source": [
    "## Question 8. You have three lists: `[1, 2, 3]`, `[4, 5, 6]`, and `[7, 8, 9]`. How can you combine these three lists into a single list?"
   ]
  },
  {
   "cell_type": "markdown",
   "id": "a5742f21",
   "metadata": {},
   "source": [
    "## Question 9. You have the following list: `['Python', 'Java', 'C++', 'Golang', 'Pascal', 'Assembly']`. How can you create another list where each element is half the string? \n",
    "\n",
    " If the number of characters is odd, return the middle character as well"
   ]
  },
  {
   "cell_type": "markdown",
   "id": "22790e36",
   "metadata": {},
   "source": [
    "## Question 10. Why would you want to use comprehensions instead of loops?"
   ]
  },
  {
   "cell_type": "markdown",
   "id": "254fb8ad",
   "metadata": {},
   "source": [
    "## Question 11. You have the following list: `['Python', 'Java', 'C++', 'Golang', 'Pascal', 'Assembly']`. Using a comprehension list, How can you obtain a of the length of each string?"
   ]
  },
  {
   "cell_type": "markdown",
   "id": "fea67b6f",
   "metadata": {},
   "source": [
    "## Question 12. Comprehensions can also be used for dictionaries. Using a dictionary comprehension, can you create a dictionary where each key is an element of a list, and its corresponding value is the length of the string."
   ]
  },
  {
   "cell_type": "markdown",
   "id": "157ef9ec",
   "metadata": {},
   "source": [
    "## Question 13. Using a dictionary comprehension, can you reverse a dictionary? \n",
    "\n",
    " Thus, the operation will look like {'a': 1, 'b': 2, 'c': 3} -> {1: 'a', 2: 'b', 3: 'c'}"
   ]
  }
 ],
 "metadata": {},
 "nbformat": 4,
 "nbformat_minor": 5
}
