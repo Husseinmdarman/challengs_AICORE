{
 "cells": [
  {
   "cell_type": "markdown",
   "id": "b5611b7d",
   "metadata": {},
   "source": [
    "## Question 1. What is a Linux Distribution? Enumerate at least 3 of them"
   ]
  },
  {
   "cell_type": "markdown",
   "id": "96255b7a",
   "metadata": {},
   "source": [
    "## Question 2. How can you access the information of a command?"
   ]
  },
  {
   "cell_type": "markdown",
   "id": "4b77b75d",
   "metadata": {},
   "source": [
    "## Question 3. How can you visualize the items in the current directory, including the hidden files, from the Command Line?"
   ]
  },
  {
   "cell_type": "markdown",
   "id": "fa2ca946",
   "metadata": {},
   "source": [
    "## Question 4. What is the difference between `echo 'Hello' > test.txt` and `echo 'Hello' >> test.txt`"
   ]
  },
  {
   "cell_type": "markdown",
   "id": "0b5584f7",
   "metadata": {},
   "source": [
    "## Question 5. What does chmod do?"
   ]
  },
  {
   "cell_type": "markdown",
   "id": "5d2763e5",
   "metadata": {},
   "source": [
    "## Question 6. How can you check the permissions of all the files in the current directory?"
   ]
  },
  {
   "cell_type": "markdown",
   "id": "186702d0",
   "metadata": {},
   "source": [
    "## Question 7. What does VSC stand for? What does the distributed mean in Distributed Version Control?"
   ]
  },
  {
   "cell_type": "markdown",
   "id": "54f2c7b2",
   "metadata": {},
   "source": [
    "## Question 8. What is the command to create a new repository?"
   ]
  },
  {
   "cell_type": "markdown",
   "id": "474371e8",
   "metadata": {},
   "source": [
    "## Question 9. How can you start working with a remote repository in your local machine?"
   ]
  },
  {
   "cell_type": "markdown",
   "id": "7b24c523",
   "metadata": {},
   "source": [
    "## Question 10. What is the command to add a file to the staging area?"
   ]
  },
  {
   "cell_type": "markdown",
   "id": "3474ccdf",
   "metadata": {},
   "source": [
    "## Question 11. What is the difference between git and github?"
   ]
  },
  {
   "cell_type": "markdown",
   "id": "84037065",
   "metadata": {},
   "source": [
    "## Question 12. What is wrong with the following command? `git commit`"
   ]
  },
  {
   "cell_type": "markdown",
   "id": "a5574c88",
   "metadata": {},
   "source": [
    "## Question 13. Where should you store large files?"
   ]
  },
  {
   "cell_type": "markdown",
   "id": "c6e4db2c",
   "metadata": {},
   "source": [
    "## Question 14. How can you avoid tracking files you don’t need?"
   ]
  },
  {
   "cell_type": "markdown",
   "id": "e78536d7",
   "metadata": {},
   "source": [
    "## Question 15. What is the command to create a new branch? What is the command to switch to a branch?"
   ]
  },
  {
   "cell_type": "markdown",
   "id": "9b4c010d",
   "metadata": {},
   "source": [
    "## Question 16. You have pushed your changes to a remote repository to a branch that is not the main one. What should you do to merge it with main?"
   ]
  },
  {
   "cell_type": "markdown",
   "id": "1d3d2f0a",
   "metadata": {},
   "source": [
    "## Question 17. Your remote repository has been updated. How can you 'download' those changes?"
   ]
  },
  {
   "cell_type": "markdown",
   "id": "769c95fe",
   "metadata": {},
   "source": [
    "## Question 18. What are the three types of merge?"
   ]
  },
  {
   "cell_type": "markdown",
   "id": "a80fb75f",
   "metadata": {},
   "source": [
    "## Question 19. What is the difference between rebase and squash?"
   ]
  }
 ],
 "metadata": {},
 "nbformat": 4,
 "nbformat_minor": 5
}
